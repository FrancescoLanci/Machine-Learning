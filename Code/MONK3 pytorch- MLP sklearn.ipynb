{
 "cells": [
  {
   "cell_type": "code",
   "execution_count": null,
   "id": "94169c85",
   "metadata": {},
   "outputs": [],
   "source": [
    "from Monk_functions import *"
   ]
  },
  {
   "cell_type": "code",
   "execution_count": null,
   "id": "9f5306a0",
   "metadata": {},
   "outputs": [],
   "source": [
    "X_train, y_train=monk_transform(\"monks-3.train\")\n",
    "X_test, y_test=monk_transform(\"monks-3.test\")"
   ]
  },
  {
   "cell_type": "markdown",
   "id": "be9e78c5",
   "metadata": {},
   "source": [
    "# PYTORCH no l2"
   ]
  },
  {
   "cell_type": "code",
   "execution_count": null,
   "id": "28eeb067",
   "metadata": {},
   "outputs": [],
   "source": [
    "hyperparameters_rand_torch = {\n",
    "    'units': [3, 4, 5],\n",
    "    'momentum': [0.3, 0.5, 0.7, 0.9],\n",
    "    'learning_rate': [0.01, 0.001, 0.1, 0.3, 0.5],\n",
    "    'l2': [0],\n",
    "    'batch_size': [5, 10, 20, 30],\n",
    "    'epochs': [50, 100, 150]\n",
    "}\n",
    "randomized_search_pytorch(X_train=X_train, Y_train=y_train, param_dict=hyperparameters_rand_torch, number_of_combinations=50, n_best=2, delta=0.01)"
   ]
  },
  {
   "cell_type": "code",
   "execution_count": null,
   "id": "cc45db7c",
   "metadata": {},
   "outputs": [],
   "source": [
    "#Testing with hyperparameters: {'units': 5, 'momentum': 0.5, 'learning_rate': 0.1, 'l2': 0, 'batch_size': 30, 'epochs': 50}\n",
    "#Testing with hyperparameters: {'units': 5, 'momentum': 0.7, 'learning_rate': 0.1, 'l2': 0, 'batch_size': 30, 'epochs': 50}\n",
    "hyperparameters_grid_torch = {\n",
    "    'units': [3, 4, 5],\n",
    "    'momentum': [0.3, 0.5, 0.7],\n",
    "    'learning_rate': [0.1, 0.3, 0.5],\n",
    "    'l2': [0],\n",
    "    'batch_size': [5, 20, 30],\n",
    "    'epochs': [50, 80]\n",
    "}\n",
    "\n",
    "best_param=grid_search_pytorch(X_train=X_train, Y_train=y_train, param_dict=hyperparameters_grid_torch, n_best=1, seed=0)"
   ]
  },
  {
   "cell_type": "code",
   "execution_count": null,
   "id": "7d2ac4f2",
   "metadata": {},
   "outputs": [],
   "source": [
    "plot_best_torch_classifier_validation(best_param[0], X_train, y_train, n_splits=5, seed=0)"
   ]
  },
  {
   "cell_type": "code",
   "execution_count": null,
   "id": "ca7d10f2",
   "metadata": {},
   "outputs": [],
   "source": [
    "retraining_pytorch(best_param[0], X_train, y_train, X_test, y_test, seed=1)"
   ]
  },
  {
   "cell_type": "markdown",
   "id": "48cc0ec5",
   "metadata": {},
   "source": [
    "## Pytorch + l2"
   ]
  },
  {
   "cell_type": "code",
   "execution_count": null,
   "id": "91841e3d",
   "metadata": {},
   "outputs": [],
   "source": [
    "hyperparameters_rand_torch = {\n",
    "    'units': [3, 4, 5, 6],\n",
    "    'momentum': [0.3, 0.5, 0.7, 0.9],\n",
    "    'learning_rate': [0.01, 0.001, 0.1, 0.3, 0.5],\n",
    "    'l2': [0.1, 0.01, 0.001, 0.0001],\n",
    "    'batch_size': [5, 10, 20, 30],\n",
    "    'epochs': [50, 100, 150]\n",
    "}\n",
    "randomized_search_pytorch(X_train=X_train, Y_train=y_train, param_dict=hyperparameters_rand_torch, number_of_combinations=50, n_best=2)"
   ]
  },
  {
   "cell_type": "code",
   "execution_count": null,
   "id": "9d0b5d44",
   "metadata": {},
   "outputs": [],
   "source": [
    "#Testing with hyperparameters: {'units': 6, 'momentum': 0.9, 'learning_rate': 0.01, 'l2': 0.0001, 'batch_size': 30, 'epochs': 100}\n",
    "#Testing with hyperparameters: {'units': 3, 'momentum': 0.3, 'learning_rate': 0.3, 'l2': 0.01, 'batch_size': 30, 'epochs': 50}\n",
    "#Testing with hyperparameters: {'units': 3, 'momentum': 0.5, 'learning_rate': 0.3, 'l2': 0.01, 'batch_size': 20, 'epochs': 150}\n",
    "#Testing with hyperparameters: {'units': 6, 'momentum': 0.3, 'learning_rate': 0.1, 'l2': 0.01, 'batch_size': 5, 'epochs': 100}\n",
    "hyperparameters_grid_torch = {\n",
    "    'units': [4, 5, 6],\n",
    "    'momentum': [0.3, 0.5, 0.7],\n",
    "    'learning_rate': [0.1, 0.01],\n",
    "    'l2': [0.01, 0.001, 0.0001],\n",
    "    'batch_size': [5, 10],\n",
    "    'epochs': [50, 100]\n",
    "}\n",
    "\n",
    "best_param=grid_search_pytorch(X_train=X_train, Y_train=y_train, param_dict=hyperparameters_grid_torch, n_best=1, seed=1)"
   ]
  },
  {
   "cell_type": "code",
   "execution_count": null,
   "id": "7c590844",
   "metadata": {},
   "outputs": [],
   "source": [
    "best_param={'units': 6, 'momentum': 0.7, 'learning_rate': 0.01, 'l2': 0.01, 'batch_size': 5, 'epochs': 100}"
   ]
  },
  {
   "cell_type": "code",
   "execution_count": null,
   "id": "45fef37e",
   "metadata": {},
   "outputs": [],
   "source": [
    "plot_best_torch_classifier_validation(best_param, X_train, y_train, n_splits=5, seed=3)"
   ]
  },
  {
   "cell_type": "code",
   "execution_count": null,
   "id": "c151fc53",
   "metadata": {},
   "outputs": [],
   "source": [
    "retraining_pytorch(best_param, X_train, y_train, X_test, y_test, seed=0)"
   ]
  },
  {
   "cell_type": "markdown",
   "id": "33fa80d2",
   "metadata": {},
   "source": [
    "# SKLEARN no l2"
   ]
  },
  {
   "cell_type": "code",
   "execution_count": null,
   "id": "cf758fc3",
   "metadata": {},
   "outputs": [],
   "source": [
    "\n",
    "param_rand = {\n",
    "    'solver': ['sgd'],\n",
    "    'activation':['tanh'],\n",
    "    'hidden_layer_sizes': [(3,), (4,), (5,)],\n",
    "    'learning_rate_init': [0.1, 0.01, 0.005],\n",
    "    'alpha': [0],\n",
    "    'momentum': [0.3, 0.5, 0.7, 0.9],\n",
    "    'batch_size':[10, 20, 30],\n",
    "    'max_iter':[50,100,200],\n",
    "    'learning_rate': ['constant','adaptive', 'invscaling']\n",
    "}\n",
    "\n",
    "scikit_randomized_monk(X_train, y_train, X_test, y_test, param_rand, model=MLPClassifier(random_state=1))"
   ]
  },
  {
   "cell_type": "code",
   "execution_count": null,
   "id": "fc89f268",
   "metadata": {},
   "outputs": [],
   "source": [
    "param_grid = {\n",
    "    'solver': ['sgd'],\n",
    "    'activation':['tanh'],\n",
    "    'hidden_layer_sizes': [(4,), (5,)],\n",
    "    'learning_rate_init': [0.1, 0.05, 0.2],\n",
    "    'alpha': [0],\n",
    "    'momentum': [0.5, 0.7, 0.9],\n",
    "    'batch_size':[20],\n",
    "    'max_iter':[100,200],\n",
    "    'learning_rate': ['adaptive']\n",
    "}\n",
    "\n",
    "sklearn_clf=scikit_grid_monk(X_train, y_train, X_test, y_test, param_grid, model=MLPClassifier(random_state=1))"
   ]
  },
  {
   "cell_type": "code",
   "execution_count": null,
   "id": "eeea22d2",
   "metadata": {},
   "outputs": [],
   "source": [
    "best_MLP_classifier_test(X_train, y_train, X_test, y_test, sklearn_clf)"
   ]
  },
  {
   "cell_type": "markdown",
   "id": "40b326e0",
   "metadata": {},
   "source": [
    "## SKlearn + l2"
   ]
  },
  {
   "cell_type": "code",
   "execution_count": null,
   "id": "95f1cc98",
   "metadata": {},
   "outputs": [],
   "source": [
    "param_grid = {\n",
    "    'solver': ['sgd'],\n",
    "    'activation':['tanh'],\n",
    "    'hidden_layer_sizes': [(4,), (5,)],\n",
    "    'learning_rate_init': [0.1, 0.05, 0.01],\n",
    "    'alpha': [0.001, 0.01, 0.1, 0.0001],\n",
    "    'momentum': [0.5, 0.7, 0.9],\n",
    "    'batch_size':[20],\n",
    "    'max_iter':[100,200],\n",
    "    'learning_rate': ['adaptive', 'constant']\n",
    "}\n",
    "\n",
    "sklearn_clf=scikit_grid_monk(X_train, y_train, X_test, y_test, param_grid, model=MLPClassifier(random_state=0))"
   ]
  },
  {
   "cell_type": "code",
   "execution_count": null,
   "id": "60d36e38",
   "metadata": {},
   "outputs": [],
   "source": [
    "best_MLP_classifier_test(X_train, y_train, X_test, y_test, sklearn_clf)"
   ]
  },
  {
   "cell_type": "code",
   "execution_count": null,
   "id": "80e0a3fc",
   "metadata": {},
   "outputs": [],
   "source": []
  }
 ],
 "metadata": {
  "kernelspec": {
   "display_name": "Python 3 (ipykernel)",
   "language": "python",
   "name": "python3"
  },
  "language_info": {
   "codemirror_mode": {
    "name": "ipython",
    "version": 3
   },
   "file_extension": ".py",
   "mimetype": "text/x-python",
   "name": "python",
   "nbconvert_exporter": "python",
   "pygments_lexer": "ipython3",
   "version": "3.9.18"
  }
 },
 "nbformat": 4,
 "nbformat_minor": 5
}

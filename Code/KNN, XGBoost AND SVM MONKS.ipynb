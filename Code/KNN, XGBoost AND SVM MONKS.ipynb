{
 "cells": [
  {
   "cell_type": "code",
   "execution_count": null,
   "id": "54dab14b",
   "metadata": {},
   "outputs": [],
   "source": [
    "import Monk_functions"
   ]
  },
  {
   "cell_type": "markdown",
   "id": "181b05de",
   "metadata": {},
   "source": [
    "# MONK 1"
   ]
  },
  {
   "cell_type": "code",
   "execution_count": null,
   "id": "2ee889b1",
   "metadata": {},
   "outputs": [],
   "source": [
    "X_train_M1, y_train_M1=Monk_functions.monk_transform(\"monk+s+problems\\monks-1.train\")\n",
    "X_test_M1, y_test_M1=Monk_functions.monk_transform(\"monk+s+problems\\monks-1.test\")"
   ]
  },
  {
   "cell_type": "markdown",
   "id": "a7f7dea5",
   "metadata": {},
   "source": [
    "## KNN"
   ]
  },
  {
   "cell_type": "code",
   "execution_count": null,
   "id": "b1f68ac5",
   "metadata": {},
   "outputs": [],
   "source": [
    "param_dict_knn = {\n",
    "    'n_neighbors': [1, 3, 5, 7, 9, 11, 13, 15, 17, 19, 21, 23], \n",
    "    'weights': ['uniform', 'distance'], \n",
    "    'metric': ['euclidean', 'manhattan']\n",
    "}"
   ]
  },
  {
   "cell_type": "code",
   "execution_count": null,
   "id": "3d74a25c",
   "metadata": {},
   "outputs": [],
   "source": [
    "best_params, best_estimator = Monk_functions.grid_search_knn_classifier(param_grid = param_dict_knn, X_train = X_train_M1, y_train = y_train_M1)"
   ]
  },
  {
   "cell_type": "code",
   "execution_count": null,
   "id": "d94e62a9",
   "metadata": {},
   "outputs": [],
   "source": [
    "Monk_functions.best_knn_classifier_validation(best_estimator=best_estimator, X_train=X_train_M1, Y_train=y_train_M1)"
   ]
  },
  {
   "cell_type": "code",
   "execution_count": null,
   "id": "0a608ff3",
   "metadata": {},
   "outputs": [],
   "source": [
    "Monk_functions.best_knn_classifier_test(X_train = X_train_M1, y_train = y_train_M1, X_test = X_test_M1, y_test = y_test_M1, best_estimator = best_estimator)"
   ]
  },
  {
   "cell_type": "markdown",
   "id": "13123d78",
   "metadata": {},
   "source": [
    "## XGBoost"
   ]
  },
  {
   "cell_type": "code",
   "execution_count": null,
   "id": "be2b8b26",
   "metadata": {},
   "outputs": [],
   "source": [
    "param_dict_xgboost = {\n",
    "    'n_estimators' : [100, 200, 300], \n",
    "    'max_depth' : [2, 5, 10, 15, 25, 30, 50] , \n",
    "    'learning_rate' : [0.001, 0.01, 0.1, 0.3],\n",
    "    'gamma' : [0.0, 0.2, 0.4],\n",
    "    'reg_lambda' : [None, 0.1, 0.3, 0.5, 0.8, 2]\n",
    "}"
   ]
  },
  {
   "cell_type": "code",
   "execution_count": null,
   "id": "4a3265b5",
   "metadata": {},
   "outputs": [],
   "source": [
    "best_params, best_estimator = Monk_functions.grid_search_xgboost_classifier(param_grid = param_dict_xgboost, X_train = X_train_M1, y_train = y_train_M1)"
   ]
  },
  {
   "cell_type": "code",
   "execution_count": null,
   "id": "c8c5b1f3",
   "metadata": {},
   "outputs": [],
   "source": [
    "Monk_functions.best_xgboost_classifier_validation(best_estimator=best_estimator, X_train=X_train_M1, Y_train=y_train_M1)"
   ]
  },
  {
   "cell_type": "code",
   "execution_count": null,
   "id": "a0dcd8c8",
   "metadata": {},
   "outputs": [],
   "source": [
    "Monk_functions.best_xgboost_classifier_test(X_train = X_train_M1, y_train = y_train_M1, X_test = X_test_M1, y_test = y_test_M1, best_estimator = best_estimator)"
   ]
  },
  {
   "cell_type": "markdown",
   "id": "a427aba1",
   "metadata": {},
   "source": [
    "## SVM"
   ]
  },
  {
   "cell_type": "code",
   "execution_count": null,
   "id": "95330fb0",
   "metadata": {},
   "outputs": [],
   "source": [
    "hyperparameters = {\n",
    "    'C': [0.01, 0.1, 1, 3, 5, 10],\n",
    "    'kernel':['poly', 'rbf', 'sigmoid'],\n",
    "    'epsilon':[0.0001, 0.001, 0.01, 0.1, 0.3],\n",
    "    'gamma': [0.0001, 0.001, 0.01, 0.1, 0.3]\n",
    "}"
   ]
  },
  {
   "cell_type": "code",
   "execution_count": null,
   "id": "5d146771",
   "metadata": {},
   "outputs": [],
   "source": [
    "best_params, best_estimator = Monk_functions.grid_search_svc(param_grid = hyperparameters, X_train = X_train_M1, y_train = y_train_M1)"
   ]
  },
  {
   "cell_type": "code",
   "execution_count": null,
   "id": "2355b113",
   "metadata": {},
   "outputs": [],
   "source": [
    "Monk_functions.best_svc_validation(best_estimator = best_estimator, X_train = X_train_M1, Y_train = y_train_M1)"
   ]
  },
  {
   "cell_type": "code",
   "execution_count": null,
   "id": "8ed8137b",
   "metadata": {},
   "outputs": [],
   "source": [
    "Monk_functions.best_svc_test(X_train = X_train_M1, y_train = y_train_M1, X_test = X_test_M1, y_test = y_test_M1, best_estimator = best_estimator)"
   ]
  },
  {
   "cell_type": "markdown",
   "id": "f3b3db20",
   "metadata": {},
   "source": [
    "# MONK 2"
   ]
  },
  {
   "cell_type": "code",
   "execution_count": null,
   "id": "ec70a42a",
   "metadata": {},
   "outputs": [],
   "source": [
    "X_train_M2, y_train_M2=Monk_functions.monk_transform(\"monk+s+problems\\monks-2.train\")\n",
    "X_test_M2, y_test_M2=Monk_functions.monk_transform(\"monk+s+problems\\monks-2.test\")"
   ]
  },
  {
   "cell_type": "markdown",
   "id": "51bf6469",
   "metadata": {},
   "source": [
    "## KNN"
   ]
  },
  {
   "cell_type": "code",
   "execution_count": null,
   "id": "2e711751",
   "metadata": {},
   "outputs": [],
   "source": [
    "param_dict_knn = {\n",
    "    'n_neighbors': [1, 3, 5, 7, 9, 11, 13, 15, 17, 19, 21, 23, 25, 27, 29], \n",
    "    'weights': ['uniform', 'distance'], \n",
    "    'metric': ['euclidean', 'manhattan']\n",
    "}"
   ]
  },
  {
   "cell_type": "code",
   "execution_count": null,
   "id": "65f409da",
   "metadata": {},
   "outputs": [],
   "source": [
    "best_params, best_estimator = Monk_functions.grid_search_knn_classifier(param_grid = param_dict_knn, X_train = X_train_M2, y_train = y_train_M2)"
   ]
  },
  {
   "cell_type": "code",
   "execution_count": null,
   "id": "24d6a530",
   "metadata": {},
   "outputs": [],
   "source": [
    "Monk_functions.best_knn_classifier_validation(best_estimator=best_estimator, X_train=X_train_M2, Y_train=y_train_M2)"
   ]
  },
  {
   "cell_type": "code",
   "execution_count": null,
   "id": "4e8b565f",
   "metadata": {},
   "outputs": [],
   "source": [
    "Monk_functions.best_knn_classifier_test(X_train = X_train_M2, y_train = y_train_M2, X_test = X_test_M2, y_test = y_test_M2, best_estimator = best_estimator)"
   ]
  },
  {
   "cell_type": "markdown",
   "id": "576dd9be",
   "metadata": {},
   "source": [
    "## XGBoost"
   ]
  },
  {
   "cell_type": "code",
   "execution_count": null,
   "id": "3670efae",
   "metadata": {},
   "outputs": [],
   "source": [
    "param_dict_xgboost = {\n",
    "    'n_estimators' : [100, 200, 300], \n",
    "    'max_depth' : [5, 10, 15, 25] , \n",
    "    'learning_rate' : [0.0001, 0.001, 0.01, 0.1, 0.3],\n",
    "    'gamma' : [0.0, 0.2, 0.4],\n",
    "    'reg_lambda' : [None, 0.1, 0.3, 0.5, 0.8, 2]\n",
    "}"
   ]
  },
  {
   "cell_type": "code",
   "execution_count": null,
   "id": "8b91eda0",
   "metadata": {},
   "outputs": [],
   "source": [
    "best_params, best_estimator = Monk_functions.grid_search_xgboost_classifier(param_grid = param_dict_xgboost, X_train = X_train_M2, y_train = y_train_M2)"
   ]
  },
  {
   "cell_type": "code",
   "execution_count": null,
   "id": "2a9fd087",
   "metadata": {},
   "outputs": [],
   "source": [
    "Monk_functions.best_xgboost_classifier_validation(best_estimator=best_estimator, X_train=X_train_M2, Y_train=y_train_M2)"
   ]
  },
  {
   "cell_type": "code",
   "execution_count": null,
   "id": "d7ca1e77",
   "metadata": {},
   "outputs": [],
   "source": [
    "Monk_functions.best_xgboost_classifier_test(X_train = X_train_M2, y_train = y_train_M2, X_test = X_test_M2, y_test = y_test_M2, best_estimator = best_estimator)"
   ]
  },
  {
   "cell_type": "markdown",
   "id": "83910840",
   "metadata": {},
   "source": [
    "## SVM"
   ]
  },
  {
   "cell_type": "code",
   "execution_count": null,
   "id": "2c7ffb1e",
   "metadata": {},
   "outputs": [],
   "source": [
    "hyperparameters = {\n",
    "    'C': [0.01, 0.1, 1, 3, 5, 10, 20, 30],\n",
    "    'kernel':['poly', 'rbf', 'sigmoid'],\n",
    "    'epsilon':[0.0001, 0.001, 0.01, 0.1, 0.3, 0.4, 0.5, 0.7],\n",
    "    'gamma': [0.0001, 0.001, 0.01, 0.1, 0.3, 0.4, 0.5, 0.7]\n",
    "}"
   ]
  },
  {
   "cell_type": "code",
   "execution_count": null,
   "id": "85478054",
   "metadata": {},
   "outputs": [],
   "source": [
    "best_params, best_estimator = Monk_functions.grid_search_svc(param_grid = hyperparameters, X_train = X_train_M2, y_train = y_train_M2)"
   ]
  },
  {
   "cell_type": "code",
   "execution_count": null,
   "id": "8314f22d",
   "metadata": {},
   "outputs": [],
   "source": [
    "Monk_functions.best_svc_validation(best_estimator = best_estimator, X_train = X_train_M2, Y_train = y_train_M2)"
   ]
  },
  {
   "cell_type": "code",
   "execution_count": null,
   "id": "6ee7beae",
   "metadata": {},
   "outputs": [],
   "source": [
    "Monk_functions.best_svc_test(X_train = X_train_M2, y_train = y_train_M2, X_test = X_test_M2, y_test = y_test_M2, best_estimator = best_estimator)"
   ]
  },
  {
   "cell_type": "markdown",
   "id": "7819dc37",
   "metadata": {},
   "source": [
    "# MONK 3"
   ]
  },
  {
   "cell_type": "code",
   "execution_count": null,
   "id": "1b4c3cb6",
   "metadata": {},
   "outputs": [],
   "source": [
    "X_train_M3, y_train_M3=Monk_functions.monk_transform(\"monk+s+problems\\monks-3.train\")\n",
    "X_test_M3, y_test_M3=Monk_functions.monk_transform(\"monk+s+problems\\monks-3.test\")"
   ]
  },
  {
   "cell_type": "markdown",
   "id": "96bd6f15",
   "metadata": {},
   "source": [
    "## KNN"
   ]
  },
  {
   "cell_type": "code",
   "execution_count": null,
   "id": "0aa00fc3",
   "metadata": {},
   "outputs": [],
   "source": [
    "param_dict_knn = {\n",
    "    'n_neighbors': [1, 3, 5, 7, 9, 11, 13, 15, 17, 19, 21, 23, 25, 27, 29], \n",
    "    'weights': ['uniform', 'distance'], \n",
    "    'metric': ['euclidean', 'manhattan']\n",
    "}"
   ]
  },
  {
   "cell_type": "code",
   "execution_count": null,
   "id": "ffd439c6",
   "metadata": {},
   "outputs": [],
   "source": [
    "best_params, best_estimator = Monk_functions.grid_search_knn_classifier(param_grid = param_dict_knn, X_train = X_train_M3, y_train = y_train_M3)"
   ]
  },
  {
   "cell_type": "code",
   "execution_count": null,
   "id": "72b93321",
   "metadata": {},
   "outputs": [],
   "source": [
    "Monk_functions.best_knn_classifier_validation(best_estimator=best_estimator, X_train=X_train_M3, Y_train=y_train_M3)"
   ]
  },
  {
   "cell_type": "code",
   "execution_count": null,
   "id": "b9ff2993",
   "metadata": {},
   "outputs": [],
   "source": [
    "Monk_functions.best_knn_classifier_test(X_train = X_train_M3, y_train = y_train_M3, X_test = X_test_M3, y_test = y_test_M3, best_estimator = best_estimator)"
   ]
  },
  {
   "cell_type": "markdown",
   "id": "4d19b8fb",
   "metadata": {},
   "source": [
    "## XGBoost"
   ]
  },
  {
   "cell_type": "code",
   "execution_count": null,
   "id": "187f9db1",
   "metadata": {},
   "outputs": [],
   "source": [
    "param_dict_xgboost = {\n",
    "    'n_estimators' : [100, 200, 300], \n",
    "    'max_depth' : [5, 10, 15, 25] , \n",
    "    'learning_rate' : [0.001, 0.01, 0.1, 0.3],\n",
    "    'gamma' : [0.0, 0.2, 0.4, 0.6],\n",
    "    'reg_lambda' : [None, 0.1, 0.3, 0.5, 0.8, 2]\n",
    "}"
   ]
  },
  {
   "cell_type": "code",
   "execution_count": null,
   "id": "fc1ef50f",
   "metadata": {},
   "outputs": [],
   "source": [
    "best_params, best_estimator = Monk_functions.grid_search_xgboost_classifier(param_grid = param_dict_xgboost, X_train = X_train_M3, y_train = y_train_M3)"
   ]
  },
  {
   "cell_type": "code",
   "execution_count": null,
   "id": "098284f3",
   "metadata": {},
   "outputs": [],
   "source": [
    "Monk_functions.best_xgboost_classifier_validation(best_estimator=best_estimator, X_train=X_train_M3, Y_train=y_train_M3)"
   ]
  },
  {
   "cell_type": "code",
   "execution_count": null,
   "id": "2d9fe440",
   "metadata": {},
   "outputs": [],
   "source": [
    "Monk_functions.best_xgboost_classifier_test(X_train = X_train_M3, y_train = y_train_M3, X_test = X_test_M3, y_test = y_test_M3, best_estimator = best_estimator)"
   ]
  },
  {
   "cell_type": "markdown",
   "id": "39cbeab2",
   "metadata": {},
   "source": [
    "## SVM"
   ]
  },
  {
   "cell_type": "code",
   "execution_count": null,
   "id": "b1fa0f98",
   "metadata": {},
   "outputs": [],
   "source": [
    "hyperparameters = {\n",
    "    'C': [0.01, 0.1, 1, 3, 5, 10, 20, 30, 50, 75, 100],\n",
    "    'kernel':['poly', 'rbf', 'sigmoid'],\n",
    "    'epsilon':[0.0001, 0.001, 0.01, 0.1, 0.3, 0.4, 0.5, 0.7],\n",
    "    'gamma': [0.0001, 0.001, 0.01, 0.1, 0.3, 0.4, 0.5, 0.7]\n",
    "}"
   ]
  },
  {
   "cell_type": "code",
   "execution_count": null,
   "id": "9dc45f1b",
   "metadata": {},
   "outputs": [],
   "source": [
    "best_params, best_estimator = Monk_functions.grid_search_svc(param_grid = hyperparameters, X_train = X_train_M3, y_train = y_train_M3)"
   ]
  },
  {
   "cell_type": "code",
   "execution_count": null,
   "id": "70683fe0",
   "metadata": {},
   "outputs": [],
   "source": [
    "Monk_functions.best_svc_validation(best_estimator = best_estimator, X_train = X_train_M3, Y_train = y_train_M3)"
   ]
  },
  {
   "cell_type": "code",
   "execution_count": null,
   "id": "50e659d2",
   "metadata": {},
   "outputs": [],
   "source": [
    "Monk_functions.best_svc_test(X_train = X_train_M3, y_train = y_train_M3, X_test = X_test_M3, y_test = y_test_M3, best_estimator = best_estimator)"
   ]
  }
 ],
 "metadata": {
  "kernelspec": {
   "display_name": "Python 3 (ipykernel)",
   "language": "python",
   "name": "python3"
  },
  "language_info": {
   "codemirror_mode": {
    "name": "ipython",
    "version": 3
   },
   "file_extension": ".py",
   "mimetype": "text/x-python",
   "name": "python",
   "nbconvert_exporter": "python",
   "pygments_lexer": "ipython3",
   "version": "3.9.13"
  }
 },
 "nbformat": 4,
 "nbformat_minor": 5
}

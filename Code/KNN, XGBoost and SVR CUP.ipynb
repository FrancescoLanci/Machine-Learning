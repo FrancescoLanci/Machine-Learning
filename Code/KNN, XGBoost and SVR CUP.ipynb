{
 "cells": [
  {
   "cell_type": "code",
   "execution_count": null,
   "id": "ce7079e5",
   "metadata": {},
   "outputs": [],
   "source": [
    "import CUP_functions"
   ]
  },
  {
   "cell_type": "code",
   "execution_count": null,
   "id": "4e46a05d",
   "metadata": {},
   "outputs": [],
   "source": [
    "X_all_train_CUP, y_all_train_CUP=CUP_functions.cup_transform(\"ML-CUP23-TR.csv\")"
   ]
  },
  {
   "cell_type": "code",
   "execution_count": null,
   "id": "04bc92e0",
   "metadata": {},
   "outputs": [],
   "source": [
    "from sklearn.model_selection import train_test_split"
   ]
  },
  {
   "cell_type": "code",
   "execution_count": null,
   "id": "16a727b9",
   "metadata": {},
   "outputs": [],
   "source": [
    "X_train_CUP, X_internal_test_CUP, y_train_CUP, y_internal_test_CUP = train_test_split(X_all_train_CUP, y_all_train_CUP, test_size=0.2, random_state=42)"
   ]
  },
  {
   "cell_type": "markdown",
   "id": "da4b33f5",
   "metadata": {},
   "source": [
    "## KNN"
   ]
  },
  {
   "cell_type": "code",
   "execution_count": null,
   "id": "de64dc3f",
   "metadata": {},
   "outputs": [],
   "source": [
    "param_dict_knn = {\n",
    "    'n_neighbors': [1, 3, 5, 7, 9, 11, 13, 15, 17, 19, 21, 23], \n",
    "    'weights': ['uniform', 'distance'], \n",
    "    'metric': ['euclidean', 'manhattan']\n",
    "}"
   ]
  },
  {
   "cell_type": "code",
   "execution_count": null,
   "id": "9e3ce92d",
   "metadata": {},
   "outputs": [],
   "source": [
    "best_params, best_estimator = CUP_functions.grid_search_knn_regressor(param_grid = param_dict_knn, X_train = X_train_CUP, y_train = y_train_CUP)"
   ]
  },
  {
   "cell_type": "code",
   "execution_count": null,
   "id": "debb0ad2",
   "metadata": {},
   "outputs": [],
   "source": [
    "CUP_functions.best_knn_regressor_validation(X_train = X_train_CUP, Y_train = y_train_CUP, best_estimator = best_estimator)"
   ]
  },
  {
   "cell_type": "code",
   "execution_count": null,
   "id": "b09d609a",
   "metadata": {},
   "outputs": [],
   "source": [
    "CUP_functions.best_knn_regressor_test(X_train = X_train_CUP, y_train = y_train_CUP, X_test = X_internal_test_CUP, y_test = y_internal_test_CUP, best_estimator = best_estimator)"
   ]
  },
  {
   "cell_type": "markdown",
   "id": "18afd101",
   "metadata": {},
   "source": [
    "## XGBoost"
   ]
  },
  {
   "cell_type": "code",
   "execution_count": null,
   "id": "e9466a43",
   "metadata": {},
   "outputs": [],
   "source": [
    "param_dict_xgboost = {\n",
    "    'n_estimators' : [100, 200, 300], \n",
    "    'max_depth' : [5, 10, 15, 25] , \n",
    "    'learning_rate' : [0.001, 0.01, 0.1, 0.3],\n",
    "    'gamma' : [0.0, 0.2, 0.4],\n",
    "    'reg_lambda' : [None, 0.1, 0.3, 0.5, 0.8, 2]\n",
    "}"
   ]
  },
  {
   "cell_type": "code",
   "execution_count": null,
   "id": "be9b2dca",
   "metadata": {},
   "outputs": [],
   "source": [
    "best_params, best_estimator = CUP_functions.grid_search_xgboost_regressor(param_grid = param_dict_xgboost, X_train = X_train_CUP, y_train = y_train_CUP)"
   ]
  },
  {
   "cell_type": "code",
   "execution_count": null,
   "id": "1559fc06",
   "metadata": {},
   "outputs": [],
   "source": [
    "CUP_functions.best_xgboost_regressor_validation(best_estimator=best_estimator, X_train=X_train_CUP, Y_train=y_train_CUP)"
   ]
  },
  {
   "cell_type": "code",
   "execution_count": null,
   "id": "de081a00",
   "metadata": {},
   "outputs": [],
   "source": [
    "CUP_functions.best_xgboost_regressor_test(X_train = X_train_CUP, y_train = y_train_CUP, X_test = X_internal_test_CUP, y_test = y_internal_test_CUP, best_estimator = best_estimator)"
   ]
  },
  {
   "cell_type": "markdown",
   "id": "80bffaf1",
   "metadata": {},
   "source": [
    "## SVR"
   ]
  },
  {
   "cell_type": "code",
   "execution_count": null,
   "id": "2f731128",
   "metadata": {},
   "outputs": [],
   "source": [
    "hyperparameters = {\n",
    "    'estimator__C': [0.01, 0.1, 1, 3, 5, 10, 20, 30, 50, 75, 100, 150, 200],\n",
    "    'estimator__kernel':['poly', 'rbf', 'sigmoid'],\n",
    "    'estimator__epsilon':[0.0001, 0.001, 0.01, 0.1, 0.3, 0.4, 0.5, 0.7],\n",
    "    'estimator__gamma': [0.0001, 0.001, 0.01, 0.1, 0.3, 0.4, 0.5, 0.7]\n",
    "}"
   ]
  },
  {
   "cell_type": "code",
   "execution_count": null,
   "id": "a210542d",
   "metadata": {},
   "outputs": [],
   "source": [
    "best_params, best_estimator = CUP_functions.grid_search_svr(param_grid = hyperparameters, X_train = X_train_CUP, y_train = y_train_CUP)"
   ]
  },
  {
   "cell_type": "code",
   "execution_count": null,
   "id": "7c4df31e",
   "metadata": {},
   "outputs": [],
   "source": [
    "CUP_functions.best_svr_validation(best_estimator = best_estimator, X_train = X_train_CUP, Y_train = y_train_CUP)"
   ]
  },
  {
   "cell_type": "code",
   "execution_count": null,
   "id": "feeb9c56",
   "metadata": {},
   "outputs": [],
   "source": [
    "CUP_functions.best_svr_test(best_estimator = best_estimator, X_train = X_train_CUP, y_train = y_train_CUP, X_test = X_internal_test_CUP, y_test = y_internal_test_CUP)"
   ]
  }
 ],
 "metadata": {
  "kernelspec": {
   "display_name": "Python 3 (ipykernel)",
   "language": "python",
   "name": "python3"
  },
  "language_info": {
   "codemirror_mode": {
    "name": "ipython",
    "version": 3
   },
   "file_extension": ".py",
   "mimetype": "text/x-python",
   "name": "python",
   "nbconvert_exporter": "python",
   "pygments_lexer": "ipython3",
   "version": "3.9.13"
  }
 },
 "nbformat": 4,
 "nbformat_minor": 5
}

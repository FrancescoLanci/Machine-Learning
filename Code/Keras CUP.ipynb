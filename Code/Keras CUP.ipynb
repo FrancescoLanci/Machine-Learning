{
 "cells": [
  {
   "cell_type": "code",
   "execution_count": null,
   "id": "1f65c427",
   "metadata": {},
   "outputs": [],
   "source": [
    "import CUP_functions"
   ]
  },
  {
   "cell_type": "code",
   "execution_count": null,
   "id": "e2f5d741",
   "metadata": {},
   "outputs": [],
   "source": [
    "X_all_train_CUP, y_all_train_CUP=CUP_functions.cup_transform(\"ML-CUP23-TR.csv\")\n"
   ]
  },
  {
   "cell_type": "code",
   "execution_count": null,
   "id": "9ebfa6ae",
   "metadata": {},
   "outputs": [],
   "source": [
    "from sklearn.model_selection import train_test_split"
   ]
  },
  {
   "cell_type": "code",
   "execution_count": null,
   "id": "449876af",
   "metadata": {},
   "outputs": [],
   "source": [
    "X_train_CUP, X_internal_test_CUP, y_train_CUP, y_internal_test_CUP = train_test_split(X_all_train_CUP, y_all_train_CUP, test_size=0.2, random_state=42)"
   ]
  },
  {
   "cell_type": "code",
   "execution_count": null,
   "id": "4beb425a",
   "metadata": {},
   "outputs": [],
   "source": [
    "hyperparameters = {\n",
    "    'units_activations' : [[[10, 10],['tanh', 'tanh']], [[15, 10],['tanh', 'tanh']], [[15, 15],['tanh', 'tanh']],\n",
    "                          [[10, 10],['sigmoid', 'tanh']], [[15, 10],['sigmoid', 'tanh']], [[15, 15],['sigmoid', 'tanh']],\n",
    "                          [[10, 10],['sigmoid', 'sigmoid']], [[15, 10],['sigmoid', 'digmoid']], [[15, 15],['sigmoid', 'sigmoid']],\n",
    "                          [[10, 10],['tanh', 'sigmoid']], [[15, 10],['tanh', 'sigmoid']], [[15, 15],['tanh', 'sigmoid']],\n",
    "                          [[20, 10],['tanh', 'tanh']], [[20, 15],['tanh', 'tanh']], [[20, 20],['tanh', 'tanh']],\n",
    "                          [[10, 10, 10],['tanh', 'tanh', 'tanh']], [[15, 10, 10],['tanh', 'tanh', 'tanh']], [[15, 15, 10],['tanh', 'tanh', 'tanh']],\n",
    "                          [[15, 15, 15],['tanh', 'tanh', 'tanh']]],     \n",
    "    'momentum': [0, 0.2, 0.4, 0.6, 0.8],\n",
    "    'learning_rate': [0.0001, 0.001, 0.01, 0.1, 0.3, 0.5, 0.7],\n",
    "    'l2': [0, 0.0001, 0.001, 0.01, 0.1],\n",
    "    'batch_size': [4, 8, 16, 32],\n",
    "    'epochs': [200]\n",
    "}"
   ]
  },
  {
   "cell_type": "code",
   "execution_count": null,
   "id": "84a2d12b",
   "metadata": {},
   "outputs": [],
   "source": [
    "CUP_functions.randomized_search_keras_regressor(X_train = X_train_CUP, Y_train = y_train_CUP, param_dict = hyperparameters, number_of_combinations = 25, n_best = 2)"
   ]
  },
  {
   "cell_type": "code",
   "execution_count": null,
   "id": "cbecc38f",
   "metadata": {},
   "outputs": [],
   "source": [
    "param_grid = {\n",
    "    'model__units_activations' : [[[25],['tanh']], [[10, 10],['tanh', 'tanh']], [[15, 10],['tanh', 'tanh']], \n",
    "                                  [[15, 15],['tanh', 'tanh']], [[20, 15],['tanh', 'tanh']], [[20, 20],['tanh', 'tanh']],\n",
    "                                  [[10, 10, 10],['tanh', 'tanh', 'tanh']], [[15, 10, 10],['tanh', 'tanh', 'tanh']],\n",
    "                                  [[15, 15, 10],['tanh', 'tanh', 'tanh']]],     \n",
    "    'model__momentum': [0.2, 0.4, 0.6, 0.7],\n",
    "    'model__learning_rate': [0.0005, 0.001, 0.01, 0.1],\n",
    "    'model__l2': [0.0005, 0.001, 0.01],\n",
    "    'batch_size': [2, 4],\n",
    "    'epochs': [150, 300]\n",
    "}"
   ]
  },
  {
   "cell_type": "code",
   "execution_count": null,
   "id": "1cb4d115",
   "metadata": {},
   "outputs": [],
   "source": [
    "%%time\n",
    "best_params, best_estimator = CUP_functions.grid_search_keras_regressor(param_grid = param_grid, X_train = X_train_CUP, y_train = y_train_CUP)"
   ]
  },
  {
   "cell_type": "code",
   "execution_count": null,
   "id": "368385bb",
   "metadata": {},
   "outputs": [],
   "source": [
    "CUP_functions.plot_best_keras_regressor_validation(best_estimator = best_estimator, epochs = best_params['epochs'], X_train = X_train_CUP, Y_train = y_train_CUP)"
   ]
  },
  {
   "cell_type": "code",
   "execution_count": null,
   "id": "d926448b",
   "metadata": {},
   "outputs": [],
   "source": [
    "CUP_functions.plot_best_keras_regressor_test(X_train = X_train_CUP, y_train = y_train_CUP, X_test = X_internal_test_CUP, y_test = y_internal_test_CUP, best_estimator = best_estimator)"
   ]
  }
 ],
 "metadata": {
  "kernelspec": {
   "display_name": "Python 3 (ipykernel)",
   "language": "python",
   "name": "python3"
  },
  "language_info": {
   "codemirror_mode": {
    "name": "ipython",
    "version": 3
   },
   "file_extension": ".py",
   "mimetype": "text/x-python",
   "name": "python",
   "nbconvert_exporter": "python",
   "pygments_lexer": "ipython3",
   "version": "3.9.13"
  }
 },
 "nbformat": 4,
 "nbformat_minor": 5
}

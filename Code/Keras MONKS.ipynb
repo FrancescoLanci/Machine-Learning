{
 "cells": [
  {
   "cell_type": "code",
   "execution_count": null,
   "id": "fc2b8c68",
   "metadata": {},
   "outputs": [],
   "source": [
    "import Monk_functions"
   ]
  },
  {
   "cell_type": "markdown",
   "id": "a619ec3b",
   "metadata": {},
   "source": [
    "# MONK 1"
   ]
  },
  {
   "cell_type": "code",
   "execution_count": null,
   "id": "4bed218a",
   "metadata": {},
   "outputs": [],
   "source": [
    "X_train_M1, y_train_M1=Monk_functions.monk_transform(\"monk+s+problems\\monks-1.train\")\n",
    "X_test_M1, y_test_M1=Monk_functions.monk_transform(\"monk+s+problems\\monks-1.test\")"
   ]
  },
  {
   "cell_type": "code",
   "execution_count": null,
   "id": "6e795ce9",
   "metadata": {},
   "outputs": [],
   "source": [
    "hyperparameters = {\n",
    "    'units': [4, 5, 6],\n",
    "    'activation' : ['tanh', 'sigmoid'],\n",
    "    'momentum': [0, 0.2, 0.4, 0.6, 0.8, 1],\n",
    "    'learning_rate': [0.0001, 0.001, 0.01, 0.1, 0.3, 0.5, 0.7, 0.9],\n",
    "    'l2': [0],\n",
    "    'batch_size': [2, 4, 8, 16, 32],\n",
    "    'epochs': [100, 200, 300, 500],\n",
    "}"
   ]
  },
  {
   "cell_type": "code",
   "execution_count": null,
   "id": "db0661ec",
   "metadata": {},
   "outputs": [],
   "source": [
    "Monk_functions.randomized_search_keras_classifier(X_train = X_train_M1, Y_train = y_train_M1, param_dict = hyperparameters, number_of_combinations = 15, n_best = 3)"
   ]
  },
  {
   "cell_type": "code",
   "execution_count": null,
   "id": "d26acece",
   "metadata": {},
   "outputs": [],
   "source": [
    "#batch size 16 + learning rate 0.9 + momentum 0.4 = zigzag\n",
    "#batch size 4 + learning rate 0.001 + momentum 0.2 = flat line\n",
    "#batch size 2 + learning rate 0.0001 + momentum 0 = flat line\n",
    "#batch size 32 + learning rate 0.001 + momentum 0.2 = flat line"
   ]
  },
  {
   "cell_type": "code",
   "execution_count": null,
   "id": "3ac6ca2a",
   "metadata": {},
   "outputs": [],
   "source": [
    "param_grid = {\n",
    "    'model__units': [4, 5, 6],\n",
    "    'model__activation': ['tanh', 'sigmoid'],\n",
    "    'model__momentum': [0, 0.2, 0.6, 0.8 ],\n",
    "    'model__learning_rate': [0.1, 0.3, 0.5, 0.7, 0.9],\n",
    "    'model__l2': [0],\n",
    "    'epochs' : [100, 200],\n",
    "    'batch_size' : [2, 4, 8, 16],\n",
    "}\n"
   ]
  },
  {
   "cell_type": "code",
   "execution_count": null,
   "id": "499d6f09",
   "metadata": {},
   "outputs": [],
   "source": [
    "%%time\n",
    "best_params, best_estimator = Monk_functions.grid_search_keras_classifier(param_grid = param_grid, X_train = X_train_M1, y_train = y_train_M1)"
   ]
  },
  {
   "cell_type": "code",
   "execution_count": null,
   "id": "a18d26d2",
   "metadata": {},
   "outputs": [],
   "source": [
    "Monk_functions.plot_best_keras_classifier_validation(best_estimator = best_estimator, epochs = best_params['epochs'], X_train = X_train_M1, Y_train = y_train_M1)"
   ]
  },
  {
   "cell_type": "code",
   "execution_count": null,
   "id": "008f1dc3",
   "metadata": {},
   "outputs": [],
   "source": [
    "Monk_functions.plot_best_keras_classifier_test(X_train = X_train_M1, y_train = y_train_M1, X_test = X_test_M1, y_test = y_test_M1, best_estimator = best_estimator)"
   ]
  },
  {
   "cell_type": "markdown",
   "id": "e0f995e8",
   "metadata": {},
   "source": [
    "# MONK 2"
   ]
  },
  {
   "cell_type": "code",
   "execution_count": null,
   "id": "594f15c8",
   "metadata": {},
   "outputs": [],
   "source": [
    "X_train_M2, y_train_M2=Monk_functions.monk_transform(\"monk+s+problems\\monks-2.train\")\n",
    "X_test_M2, y_test_M2=Monk_functions.monk_transform(\"monk+s+problems\\monks-2.test\")"
   ]
  },
  {
   "cell_type": "code",
   "execution_count": null,
   "id": "2cd06f0d",
   "metadata": {},
   "outputs": [],
   "source": [
    "hyperparameters = {\n",
    "    'units': [4, 5, 6],\n",
    "    'activation' : ['tanh', 'sigmoid'],\n",
    "    'momentum': [0, 0.2, 0.4, 0.6, 0.8, 1],\n",
    "    'learning_rate': [0.0001, 0.001, 0.01, 0.1, 0.3, 0.5, 0.7, 0.9],\n",
    "    'l2': [0],\n",
    "    'batch_size': [2, 4, 8, 16, 32],\n",
    "    'epochs': [100, 200, 300, 500],\n",
    "}"
   ]
  },
  {
   "cell_type": "code",
   "execution_count": null,
   "id": "1b7d9026",
   "metadata": {},
   "outputs": [],
   "source": [
    "Monk_functions.randomized_search_keras_classifier(X_train = X_train_M2, Y_train = y_train_M2, param_dict = hyperparameters, number_of_combinations = 15, n_best = 3)"
   ]
  },
  {
   "cell_type": "code",
   "execution_count": null,
   "id": "bbee770f",
   "metadata": {},
   "outputs": [],
   "source": [
    "param_grid = {\n",
    "    'model__units': [4, 5, 6],\n",
    "    'model__activation': ['tanh', 'sigmoid'],\n",
    "    'model__momentum': [0, 0.2, 0.6, 0.8 ],\n",
    "    'model__learning_rate': [0.1, 0.3, 0.5, 0.7, 0.9],\n",
    "    'model__l2': [0],\n",
    "    'epochs' : [100, 200],\n",
    "    'batch_size' : [2, 4, 8, 16],\n",
    "}\n"
   ]
  },
  {
   "cell_type": "code",
   "execution_count": null,
   "id": "600e7018",
   "metadata": {},
   "outputs": [],
   "source": [
    "%%time\n",
    "best_params, best_estimator = Monk_functions.grid_search_keras_classifier(param_grid = param_grid, X_train = X_train_M2, y_train = y_train_M2)"
   ]
  },
  {
   "cell_type": "code",
   "execution_count": null,
   "id": "b512e4ae",
   "metadata": {},
   "outputs": [],
   "source": [
    "Monk_functions.plot_best_keras_classifier_validation(best_estimator = best_estimator, epochs = best_params['epochs'], X_train = X_train_M2, Y_train = y_train_M2)"
   ]
  },
  {
   "cell_type": "code",
   "execution_count": null,
   "id": "46e65f27",
   "metadata": {},
   "outputs": [],
   "source": [
    "Monk_functions.plot_best_keras_classifier_test(X_train = X_train_M2, y_train = y_train_M2, X_test = X_test_M2, y_test = y_test_M2, best_estimator = best_estimator)"
   ]
  },
  {
   "cell_type": "markdown",
   "id": "6b49efb3",
   "metadata": {},
   "source": [
    "# MONK 3"
   ]
  },
  {
   "cell_type": "code",
   "execution_count": null,
   "id": "0d380c44",
   "metadata": {},
   "outputs": [],
   "source": [
    "X_train_M3, y_train_M3=Monk_functions.monk_transform(\"monk+s+problems\\monks-3.train\")\n",
    "X_test_M3, y_test_M3=Monk_functions.monk_transform(\"monk+s+problems\\monks-3.test\")"
   ]
  },
  {
   "cell_type": "markdown",
   "id": "f5d6c896",
   "metadata": {},
   "source": [
    "## Without L2"
   ]
  },
  {
   "cell_type": "code",
   "execution_count": null,
   "id": "095d16aa",
   "metadata": {},
   "outputs": [],
   "source": [
    "hyperparameters = {\n",
    "    'units': [4, 5, 6],\n",
    "    'activation' : ['tanh', 'sigmoid'],\n",
    "    'momentum': [0, 0.2, 0.4, 0.6, 0.8, 1],\n",
    "    'learning_rate': [0.0001, 0.001, 0.01, 0.1, 0.3, 0.5, 0.7, 0.9],\n",
    "    'l2': [0],\n",
    "    'batch_size': [2, 4, 8, 16, 32],\n",
    "    'epochs': [100, 200, 300, 500],\n",
    "}"
   ]
  },
  {
   "cell_type": "code",
   "execution_count": null,
   "id": "7b4c2318",
   "metadata": {},
   "outputs": [],
   "source": [
    "Monk_functions.randomized_search_keras_classifier(X_train = X_train_M3, Y_train = y_train_M3, param_dict = hyperparameters, number_of_combinations = 15, n_best = 3)"
   ]
  },
  {
   "cell_type": "code",
   "execution_count": null,
   "id": "7665dd5b",
   "metadata": {},
   "outputs": [],
   "source": [
    "param_grid = {\n",
    "    'model__units': [4, 5, 6],\n",
    "    'model__activation': ['tanh', 'sigmoid'],\n",
    "    'model__momentum': [0, 0.2, 0.6, 0.8 ],\n",
    "    'model__learning_rate': [0.1, 0.3, 0.5, 0.7, 0.9],\n",
    "    'model__l2': [0],\n",
    "    'epochs' : [100, 200],\n",
    "    'batch_size' : [2, 4, 8, 16],\n",
    "}\n"
   ]
  },
  {
   "cell_type": "code",
   "execution_count": null,
   "id": "6af44198",
   "metadata": {},
   "outputs": [],
   "source": [
    "%%time\n",
    "best_params, best_estimator = Monk_functions.grid_search_keras_classifier(param_grid = param_grid, X_train = X_train_M3, y_train = y_train_M3)"
   ]
  },
  {
   "cell_type": "code",
   "execution_count": null,
   "id": "a6b3a9da",
   "metadata": {},
   "outputs": [],
   "source": [
    "Monk_functions.plot_best_keras_classifier_validation(best_estimator = best_estimator, epochs = best_params['epochs'], X_train = X_train_M3, Y_train = y_train_M3)"
   ]
  },
  {
   "cell_type": "code",
   "execution_count": null,
   "id": "1b573856",
   "metadata": {},
   "outputs": [],
   "source": [
    "Monk_functions.plot_best_keras_classifier_test(X_train = X_train_M3, y_train = y_train_M3, X_test = X_test_M3, y_test = y_test_M3, best_estimator = best_estimator)"
   ]
  },
  {
   "cell_type": "markdown",
   "id": "c6bae877",
   "metadata": {},
   "source": [
    "## With L2"
   ]
  },
  {
   "cell_type": "code",
   "execution_count": null,
   "id": "7217da42",
   "metadata": {},
   "outputs": [],
   "source": [
    "hyperparameters = {\n",
    "    'units': [4, 5, 6],\n",
    "    'activation' : ['tanh', 'sigmoid'],\n",
    "    'momentum': [0, 0.2, 0.4, 0.6, 0.8, 1],\n",
    "    'learning_rate': [0.0001, 0.001, 0.01, 0.1, 0.3, 0.5, 0.7, 0.9],\n",
    "    'l2': [0.0001, 0.001, 0.01, 0.1, 0.3, 0.5],\n",
    "    'batch_size': [2, 4, 8, 16, 32],\n",
    "    'epochs': [100, 200, 300, 500],\n",
    "}"
   ]
  },
  {
   "cell_type": "code",
   "execution_count": null,
   "id": "0203ae03",
   "metadata": {},
   "outputs": [],
   "source": [
    "Monk_functions.randomized_search_keras_classifier(X_train = X_train_M3, Y_train = y_train_M3, param_dict = hyperparameters, number_of_combinations = 15, n_best = 3)"
   ]
  },
  {
   "cell_type": "code",
   "execution_count": null,
   "id": "dfc84c06",
   "metadata": {},
   "outputs": [],
   "source": [
    "param_grid = {\n",
    "    'model__units': [4, 5, 6],\n",
    "    'model__activation': ['tanh', 'sigmoid'],\n",
    "    'model__momentum': [0, 0.2, 0.6, 0.8 ],\n",
    "    'model__learning_rate': [0.1, 0.3, 0.5, 0.7, 0.9],\n",
    "    'model__l2': [0.0001, 0.001, 0.01, 0.1, 0.3, 0.5],\n",
    "    'epochs' : [100, 200],\n",
    "    'batch_size' : [2, 4, 8, 16],\n",
    "}\n"
   ]
  },
  {
   "cell_type": "code",
   "execution_count": null,
   "id": "423e14f7",
   "metadata": {},
   "outputs": [],
   "source": [
    "%%time\n",
    "best_params, best_estimator = Monk_functions.grid_search_keras_classifier(param_grid = param_grid, X_train = X_train_M3, y_train = y_train_M3)"
   ]
  },
  {
   "cell_type": "code",
   "execution_count": null,
   "id": "089902d7",
   "metadata": {},
   "outputs": [],
   "source": [
    "Monk_functions.plot_best_keras_classifier_validation(best_estimator = best_estimator, epochs = best_params['epochs'], X_train = X_train_M3, Y_train = y_train_M3)"
   ]
  },
  {
   "cell_type": "code",
   "execution_count": null,
   "id": "4974d321",
   "metadata": {},
   "outputs": [],
   "source": [
    "Monk_functions.plot_best_keras_classifier_test(X_train = X_train_M3, y_train = y_train_M3, X_test = X_test_M3, y_test = y_test_M3, best_estimator = best_estimator)"
   ]
  }
 ],
 "metadata": {
  "kernelspec": {
   "display_name": "Python 3 (ipykernel)",
   "language": "python",
   "name": "python3"
  },
  "language_info": {
   "codemirror_mode": {
    "name": "ipython",
    "version": 3
   },
   "file_extension": ".py",
   "mimetype": "text/x-python",
   "name": "python",
   "nbconvert_exporter": "python",
   "pygments_lexer": "ipython3",
   "version": "3.9.13"
  }
 },
 "nbformat": 4,
 "nbformat_minor": 5
}

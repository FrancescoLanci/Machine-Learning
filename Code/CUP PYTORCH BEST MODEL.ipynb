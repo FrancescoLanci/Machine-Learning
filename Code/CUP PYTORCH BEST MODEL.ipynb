{
 "cells": [
  {
   "cell_type": "code",
   "execution_count": null,
   "id": "a8033f4d",
   "metadata": {},
   "outputs": [],
   "source": [
    "from CUP_functions import *"
   ]
  },
  {
   "cell_type": "code",
   "execution_count": null,
   "id": "244d3e1f",
   "metadata": {},
   "outputs": [],
   "source": [
    "X_train_CUP, y_train_CUP=cup_transform(\"ML-CUP23-TR.csv\")\n",
    "X_train, X_internal_test_CUP, y_train, y_internal_test_CUP = train_test_split(X_train_CUP, y_train_CUP, test_size=0.2, random_state=42)"
   ]
  },
  {
   "cell_type": "markdown",
   "id": "462b8dbc",
   "metadata": {},
   "source": [
    "# TORCH"
   ]
  },
  {
   "cell_type": "code",
   "execution_count": null,
   "id": "7bdc190d",
   "metadata": {},
   "outputs": [],
   "source": [
    "hyperparameters_rand_torch = {\n",
    "    'layers_data': [[(10, nn.ReLU())], [(100, nn.ReLU())]\n",
    "                    , [(200, nn.ReLU())], [50, nn.Tanh]],\n",
    "    'momentum': [0.1, 0.5, 0.9],\n",
    "    'learning_rate': [0.0001, 0.01, 0.1],\n",
    "    'l2': [0.0001, 0.01, 0.1],\n",
    "    'batch_size': [5, 40, 100],\n",
    "    'epochs': [50, 100, 150]\n",
    "}\n",
    "randomized_search_pytorch_reg(X_train=X_train, Y_train=y_train, param_dict=hyperparameters_rand_torch, number_of_combinations=50, n_best=2)"
   ]
  },
  {
   "cell_type": "code",
   "execution_count": null,
   "id": "11e2b206",
   "metadata": {},
   "outputs": [],
   "source": [
    "hyperparameters_rand_torch = {\n",
    "    'layers_data': [[(200, nn.ReLU())], [(250, nn.ReLU())]\n",
    "                    , [(150, nn.ReLU())], [(150, nn.Tanh())]],\n",
    "    'momentum': [0.5, 0.9],\n",
    "    'learning_rate': [0.005, 0.01, 0.05],\n",
    "    'l2': [0.0001, 0.001, 0.01, 0.1],\n",
    "    'batch_size': [5, 40, 100],\n",
    "    'epochs': [50, 100]\n",
    "}\n",
    "randomized_search_pytorch_reg(X_train=X_train, Y_train=y_train, param_dict=hyperparameters_rand_torch, number_of_combinations=30, n_best=2)"
   ]
  },
  {
   "cell_type": "code",
   "execution_count": null,
   "id": "558318fb",
   "metadata": {},
   "outputs": [],
   "source": [
    "\n",
    "hyperparameters_rand_torch = {\n",
    "    'layers_data': [[(200, nn.ReLU())]],\n",
    "    'momentum': [0.5, 0.7, 0.9],\n",
    "    'learning_rate': [0.005, 0.01, 0.05],\n",
    "    'l2': [0.0001, 0.001],\n",
    "    'batch_size': [20, 40, 60],\n",
    "    'epochs': [50, 100]\n",
    "}\n",
    "randomized_search_pytorch_reg(X_train=X_train, Y_train=y_train, param_dict=hyperparameters_rand_torch, number_of_combinations=30, n_best=2)"
   ]
  },
  {
   "cell_type": "code",
   "execution_count": null,
   "id": "5bec4f20",
   "metadata": {},
   "outputs": [],
   "source": [
    "#BEST ONE LAYERS FOR FINAL GRIDSEARCH\n",
    "#Hyperparameters: {'layers_data': [(200, ReLU())], 'momentum': 0.9, 'learning_rate': 0.005, 'l2': 0.001, 'batch_size': 60, 'epochs': 100}, Mean Validation MEE: 1.2696\n",
    "#Hyperparameters: {'layers_data': [(200, ReLU())], 'momentum': 0.9, 'learning_rate': 0.005, 'l2': 0.0001, 'batch_size': 40, 'epochs': 100}, Mean Validation MEE: 1.1933"
   ]
  },
  {
   "cell_type": "code",
   "execution_count": null,
   "id": "84fd8df3",
   "metadata": {},
   "outputs": [],
   "source": [
    "#MULTI LAYERS\n",
    "hyperparameters_rand_torch = {\n",
    "    'layers_data': [[(10, nn.ReLU()), (10, nn.ReLU())]\n",
    "                    , [(10, nn.ReLU()), (10, nn.ReLU()), (10, nn.ReLU())],\n",
    "                   [(5, nn.ReLU()), (5, nn.ReLU()), (5, nn.ReLU()), (5, nn.ReLU()), (5, nn.ReLU())]],\n",
    "    'momentum': [0.5, 0.7, 0.9],\n",
    "    'learning_rate': [0.005, 0.01, 0.05],\n",
    "    'l2': [0.0001, 0.001],\n",
    "    'batch_size': [20, 40, 60],\n",
    "    'epochs': [50, 100]\n",
    "}\n",
    "randomized_search_pytorch_reg(X_train=X_train, Y_train=y_train, param_dict=hyperparameters_rand_torch, number_of_combinations=30, n_best=2)\n",
    "#2 layers winning"
   ]
  },
  {
   "cell_type": "code",
   "execution_count": null,
   "id": "e354b32f",
   "metadata": {},
   "outputs": [],
   "source": [
    "hyperparameters_rand_torch = {\n",
    "    'layers_data': [[(10, nn.ReLU()), (10, nn.ReLU())], [(20, nn.ReLU()), (10, nn.ReLU())],\n",
    "                   [(10, nn.ReLU()), (20, nn.ReLU())]],\n",
    "    'momentum': [0.7, 0.9],\n",
    "    'learning_rate': [0.005, 0.001, 0.01],\n",
    "    'l2': [0.0001, 0.001],\n",
    "    'batch_size': [20, 40, 60],\n",
    "    'epochs': [100]\n",
    "}\n",
    "\n",
    "\n",
    "randomized_search_pytorch_reg(X_train=X_train, Y_train=y_train, param_dict=hyperparameters_rand_torch, number_of_combinations=30, n_best=2)"
   ]
  },
  {
   "cell_type": "code",
   "execution_count": null,
   "id": "ccbbf095",
   "metadata": {
    "scrolled": false
   },
   "outputs": [],
   "source": [
    "#best 2 layers: {'layers_data': [(20, ReLU()), (10, ReLU())], 'momentum': 0.9, 'learning_rate': 0.001, 'l2': 0.0001, 'batch_size': 20, 'epochs': 100}, Mean Validation MEE: 1.6889\n",
    "hyperparameters_rand_torch = {\n",
    "    'layers_data': [[(50, nn.ReLU()), (10, nn.ReLU())], [(50, nn.ReLU()), (25, nn.ReLU())],\n",
    "                   [(100, nn.ReLU()), (20, nn.ReLU())]],\n",
    "    'momentum': [0.7, 0.9],\n",
    "    'learning_rate': [0.005, 0.001, 0.0005],\n",
    "    'l2': [0.0001, 0.001],\n",
    "    'batch_size': [20, 40],\n",
    "    'epochs': [100]\n",
    "}\n",
    "\n",
    "randomized_search_pytorch_reg(X_train=X_train, Y_train=y_train, param_dict=hyperparameters_rand_torch, number_of_combinations=30, n_best=2)"
   ]
  },
  {
   "cell_type": "code",
   "execution_count": null,
   "id": "6bb0eb3b",
   "metadata": {},
   "outputs": [],
   "source": [
    "#best 2-layer model 1. Hyperparameters: {'layers_data': [(100, ReLU()), (20, ReLU())], 'momentum': 0.9, 'learning_rate': 0.001, 'l2': 0.0001, 'batch_size': 20, 'epochs': 100}, Mean Validation MEE: 1.1452\n",
    "#since better than single layer we make gridsearch over this one\n",
    "hyperparameters_grid_torch = {\n",
    "    'layers_data': [[(100, nn.ReLU()), (20, nn.ReLU())], [(200, nn.ReLU()), (20, nn.ReLU())],\n",
    "                   [(150, nn.ReLU()), (20, nn.ReLU())]],\n",
    "    'momentum': [0.7, 0.9],\n",
    "    'learning_rate': [0.005, 0.001, 0.01],\n",
    "    'l2': [0.0001, 0.001],\n",
    "    'batch_size': [20, 40],\n",
    "    'epochs': [100]\n",
    "}\n",
    "grid_search_pytorch_reg(X_train=X_train, Y_train=y_train, param_dict=hyperparameters_grid_torch, n_best=2)\n"
   ]
  },
  {
   "cell_type": "code",
   "execution_count": null,
   "id": "c690ff78",
   "metadata": {},
   "outputs": [],
   "source": [
    "#TOP FROM GRID\n",
    "#Testing with hyperparameters: {'layers_data': [(200, ReLU()), (20, ReLU())], 'momentum': 0.9, 'learning_rate': 0.001, 'l2': 0.0001, 'batch_size': 20, 'epochs': 100}\n",
    "hyperparameters_grid_torch = {\n",
    "    'layers_data': [[(200, nn.ReLU()), (20, nn.ReLU())], [(200, nn.ReLU()), (40, nn.ReLU())],\n",
    "                   [(180, nn.ReLU()), (20, nn.ReLU())]],\n",
    "    'momentum': [0.9],\n",
    "    'learning_rate': [0.005, 0.001, 0.0005],\n",
    "    'l2': [0.0001],\n",
    "    'batch_size': [20, 40],\n",
    "    'epochs': [50, 100]\n",
    "}\n",
    "grid_search_pytorch_reg(X_train=X_train, Y_train=y_train, param_dict=hyperparameters_grid_torch, n_best=1)"
   ]
  },
  {
   "cell_type": "code",
   "execution_count": null,
   "id": "97276038",
   "metadata": {},
   "outputs": [],
   "source": [
    "#Testing with hyperparameters: {'layers_data': [(200, ReLU()), (40, ReLU())], 'momentum': 0.9, 'learning_rate': 0.005, 'l2': 0.0001, 'batch_size': 40, 'epochs': 100}\n",
    "#Testing with hyperparameters: {'layers_data': [(200, ReLU()), (40, ReLU())], 'momentum': 0.9, 'learning_rate': 0.001, 'l2': 0.0001, 'batch_size': 20, 'epochs': 100}\n",
    "#Testing with hyperparameters: {'layers_data': [(180, ReLU()), (20, ReLU())], 'momentum': 0.9, 'learning_rate': 0.001, 'l2': 0.0001, 'batch_size': 20, 'epochs': 100}"
   ]
  },
  {
   "cell_type": "code",
   "execution_count": null,
   "id": "c67574dd",
   "metadata": {},
   "outputs": [],
   "source": [
    "best_param={'layers_data': [(200, nn.ReLU()), (40, nn.ReLU())], 'momentum': 0.9, 'learning_rate': 0.001, 'l2': 0.0001, 'batch_size': 20, 'epochs': 100}"
   ]
  },
  {
   "cell_type": "code",
   "execution_count": null,
   "id": "19d92337",
   "metadata": {},
   "outputs": [],
   "source": [
    "\n",
    "plot_best_torch_regressor_validation(best_param, X_train, y_train, n_splits=7, seed=0)"
   ]
  },
  {
   "cell_type": "code",
   "execution_count": null,
   "id": "b3e01b9a",
   "metadata": {},
   "outputs": [],
   "source": [
    "model=retraining_pytorch_reg(best_param, X_train, y_train, X_internal_test_CUP, y_internal_test_CUP, seed=12346)"
   ]
  },
  {
   "cell_type": "markdown",
   "id": "b9f407f1",
   "metadata": {},
   "source": [
    "# PREDICT NEW DATA"
   ]
  },
  {
   "cell_type": "code",
   "execution_count": null,
   "id": "118a6222",
   "metadata": {},
   "outputs": [],
   "source": [
    "# Load the model\n",
    "model.load_state_dict(torch.load('CUP_MODEL'))\n",
    "model.eval()\n"
   ]
  },
  {
   "cell_type": "code",
   "execution_count": null,
   "id": "baa18d15",
   "metadata": {},
   "outputs": [],
   "source": [
    "#Here we prepare the test data\n",
    "test_set=pd.read_csv('ML-CUP23-TS.csv', sep=',', header=None, skipinitialspace=True, skiprows=7)\n",
    "    \n",
    "#here we drop the first column which contains the id of the record (not useful)\n",
    "test_set = test_set.iloc[:, 1:]\n",
    "numpy_test=test_set.values\n",
    "\n",
    "torch_test=torch.tensor(numpy_test, dtype=torch.float32)\n",
    "\n",
    "data_loader = torch.utils.data.DataLoader(torch_test, batch_size=32)\n",
    "print(torch_test)"
   ]
  },
  {
   "cell_type": "code",
   "execution_count": null,
   "id": "f44fdbf5",
   "metadata": {},
   "outputs": [],
   "source": [
    "predictions=[]\n",
    "# Make predictions\n",
    "with torch.no_grad():\n",
    "    for inputs in data_loader:\n",
    "        outputs = model(inputs)\n",
    "        predictions.append(outputs.numpy())\n",
    "    \n",
    "\n",
    "print('Predicted value:', predictions)"
   ]
  },
  {
   "cell_type": "code",
   "execution_count": null,
   "id": "90a6250d",
   "metadata": {},
   "outputs": [],
   "source": [
    "predictions = [item.tolist() for sublist in predictions for item in sublist]\n",
    "print(predictions)\n"
   ]
  },
  {
   "cell_type": "code",
   "execution_count": null,
   "id": "8b921d10",
   "metadata": {},
   "outputs": [],
   "source": [
    "import csv\n",
    "text='''# Matteo Rofrano, Francesco Lanci Lanci\\n\n",
    "# GOLIA\\n\n",
    "# ML-CUP23\\n\n",
    "# Submission Date (31/01/2024)\\n'''\n",
    "\n",
    "with open('CUP_test_predictions.csv', 'w') as output:\n",
    "    output.write(text)\n",
    "    csvwriter=csv.writer(output)\n",
    "    \n",
    "    for i, prediction_list in enumerate(predictions):\n",
    "        data=[]\n",
    "        data.append(i+1)\n",
    "        data.append(prediction_list[0])\n",
    "        data.append(prediction_list[1])\n",
    "        data.append(prediction_list[2])\n",
    "        csvwriter.writerow(data)"
   ]
  },
  {
   "cell_type": "code",
   "execution_count": null,
   "id": "4cabd343",
   "metadata": {},
   "outputs": [],
   "source": []
  }
 ],
 "metadata": {
  "kernelspec": {
   "display_name": "Python 3 (ipykernel)",
   "language": "python",
   "name": "python3"
  },
  "language_info": {
   "codemirror_mode": {
    "name": "ipython",
    "version": 3
   },
   "file_extension": ".py",
   "mimetype": "text/x-python",
   "name": "python",
   "nbconvert_exporter": "python",
   "pygments_lexer": "ipython3",
   "version": "3.9.18"
  }
 },
 "nbformat": 4,
 "nbformat_minor": 5
}
